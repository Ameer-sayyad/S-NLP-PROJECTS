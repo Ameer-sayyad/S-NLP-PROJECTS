{
 "cells": [
  {
   "cell_type": "code",
   "execution_count": null,
   "id": "8dd3ba08-f7d1-4417-a3d5-19fe2d5465b1",
   "metadata": {
    "trusted": true
   },
   "outputs": [
    {
     "ename": "",
     "evalue": "",
     "output_type": "error",
     "traceback": [
      "\u001b[1;31mRunning cells with 'Python 3.13.1' requires the ipykernel package.\n",
      "\u001b[1;31mRun the following command to install 'ipykernel' into the Python environment. \n",
      "\u001b[1;31mCommand: '/opt/homebrew/bin/python3 -m pip install ipykernel -U --user --force-reinstall'"
     ]
    }
   ],
   "source": [
    "!pip install datasets"
   ]
  },
  {
   "cell_type": "code",
   "execution_count": null,
   "id": "b0551496-7a87-4214-bebe-c85d496cd4a2",
   "metadata": {
    "trusted": true
   },
   "outputs": [],
   "source": [
    "from datasets import load_dataset\n",
    "import os\n",
    "import sys\n",
    "import transformers\n",
    "import tensorflow as tf\n",
    "from datasets import load_dataset\n",
    "from transformers import AutoTokenizer\n",
    "from transformers import TFAutoModelForSeq2SeqLM, DataCollatorForSeq2Seq\n",
    "from transformers import AdamWeightDecay\n",
    "from transformers import AutoTokenizer, TFAutoModelForSeq2SeqLM\n",
    "model_checkpoint = \"Helsinki-NLP/opus-mt-en-hi\"\n",
    "raw_datasets = load_dataset(\"cfilt/iitb-english-hindi\")\n",
    "tokenizer = AutoTokenizer.from_pretrained(model_checkpoint)\n",
    "max_input_length = 128\n",
    "max_target_length = 128\n",
    "source_lang = \"en\"\n",
    "target_lang = \"hi\"\n",
    "def preprocess_function(examples):\n",
    "  inputs = [ex[source_lang] for ex in examples[\"translation\"]]\n",
    "  targets = [ex[target_lang] for ex in examples[\"translation\"]]\n",
    "  model_inputs = tokenizer(inputs, max_length=max_input_length, truncation=True)\n",
    "  with tokenizer.as_target_tokenizer():\n",
    "    labels = tokenizer(targets, max_length=max_target_length, truncation=True)\n",
    "  model_inputs[\"labels\"] = labels[\"input_ids\"]\n",
    "  return model_inputs\n",
    "tokenized_datasets = raw_datasets.map(preprocess_function, batched=True)\n",
    "model = TFAutoModelForSeq2SeqLM.from_pretrained(model_checkpoint)\n",
    "batch_size = 16\n",
    "learning_rate = 2e-5\n",
    "weight_decay = 0.01\n",
    "num_train_epochs = 1\n",
    "data_collator = DataCollatorForSeq2Seq(tokenizer, model=model, return_tensors=\"tf\")\n",
    "generation_data_collator = DataCollatorForSeq2Seq(tokenizer, model=model, return_tensors=\"tf\",pad_to_multiple_of=128)\n",
    "small_train_dataset = tokenized_datasets[\"train\"].select(range(1000))  # Use only first 1000 examples\n",
    "train_dataset = model.prepare_tf_dataset(\n",
    "    small_train_dataset,\n",
    "    batch_size=batch_size,\n",
    "    shuffle=True,\n",
    "    collate_fn=data_collator\n",
    ")\n",
    "\n",
    "validation_dataset = model.prepare_tf_dataset(\n",
    "  tokenized_datasets[\"validation\"],\n",
    "  batch_size=batch_size,\n",
    "  shuffle=False,\n",
    "  collate_fn=data_collator,\n",
    ")\n",
    "generation_dataset = model.prepare_tf_dataset(\n",
    "  tokenized_datasets[\"validation\"],\n",
    "  batch_size=8,\n",
    "  shuffle=False,\n",
    "  collate_fn=generation_data_collator,\n",
    ")\n",
    "optimizer = AdamWeightDecay(learning_rate=learning_rate, weight_decay_rate=weight_decay)\n",
    "model.compile(optimizer=optimizer)\n",
    "model.fit(train_dataset, validation_data=validation_dataset, epochs=1)\n",
    "model.save_pretrained(\"tf_model/\")\n",
    "tokenizer = AutoTokenizer.from_pretrained(model_checkpoint)"
   ]
  },
  {
   "cell_type": "code",
   "execution_count": null,
   "id": "8e92e3b6-10b0-4718-9eb2-ac44ffa970a6",
   "metadata": {
    "trusted": true
   },
   "outputs": [],
   "source": [
    "from transformers import AutoTokenizer, TFAutoModelForSeq2SeqLM\n",
    "\n",
    "model = TFAutoModelForSeq2SeqLM.from_pretrained(\"tf_model/\")\n",
    "tokenizer = AutoTokenizer.from_pretrained(\"Helsinki-NLP/opus-mt-en-hi\")\n",
    "\n",
    "input_texts = [\"I am good at English.\", \"This is my first NLP project.\"]\n",
    "\n",
    "tokenized = tokenizer(input_texts, return_tensors='np', padding=True, truncation=True)\n",
    "out = model.generate(**tokenized, max_length=128)\n",
    "\n",
    "for i, output in enumerate(out):\n",
    "    print(f\"English: {input_texts[i]}\")\n",
    "    print(f\"Hindi: {tokenizer.decode(output, skip_special_tokens=True)}\\n\")"
   ]
  },
  {
   "cell_type": "code",
   "execution_count": null,
   "id": "a6978a1e-9f56-4673-a541-d6c0a4c584cb",
   "metadata": {
    "trusted": true
   },
   "outputs": [],
   "source": [
    "All model checkpoint layers were used when initializing TFMarianMTModel.\n",
    "\n",
    "All the layers of TFMarianMTModel were initialized from the model checkpoint at tf_model/.\n",
    "If your task is similar to the task the model of the checkpoint was trained on, you can already use TFMarianMTModel for predictions without further training.\n",
    "English: I am good at English.\n",
    "Hindi: मैं अंग्रेजी में अच्छा हूँ.\n",
    "\n",
    "English: This is my first NLP project.\n",
    "Hindi: यह मेरी पहली NLP परियोजना है."
   ]
  }
 ],
 "metadata": {
  "kernelspec": {
   "display_name": "Python 3",
   "language": "python",
   "name": "python3"
  },
  "language_info": {
   "codemirror_mode": {
    "name": "python",
    "version": 3
   },
   "file_extension": ".py",
   "mimetype": "text/x-python",
   "name": "python",
   "nbconvert_exporter": "python",
   "pygments_lexer": "ipython3",
   "version": "3.13.1"
  }
 },
 "nbformat": 4,
 "nbformat_minor": 5
}
