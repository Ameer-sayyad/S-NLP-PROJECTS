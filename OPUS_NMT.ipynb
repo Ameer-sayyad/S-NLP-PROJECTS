{
  "nbformat": 4,
  "nbformat_minor": 0,
  "metadata": {
    "colab": {
      "provenance": [],
      "gpuType": "T4",
      "authorship_tag": "ABX9TyO0VSvz/dbGvs9wqKGjbbau",
      "include_colab_link": true
    },
    "kernelspec": {
      "name": "python3",
      "display_name": "Python 3"
    },
    "language_info": {
      "name": "python"
    },
    "accelerator": "GPU"
  },
  "cells": [
    {
      "cell_type": "markdown",
      "metadata": {
        "id": "view-in-github",
        "colab_type": "text"
      },
      "source": [
        "<a href=\"https://colab.research.google.com/github/Ameer-sayyad/S-NLP-PROJECTS/blob/main/OPUS_NMT.ipynb\" target=\"_parent\"><img src=\"https://colab.research.google.com/assets/colab-badge.svg\" alt=\"Open In Colab\"/></a>"
      ]
    },
    {
      "cell_type": "code",
      "source": [
        "pip install --upgrade datasets"
      ],
      "metadata": {
        "id": "Wzghf8_5v7Ss"
      },
      "execution_count": null,
      "outputs": []
    },
    {
      "cell_type": "code",
      "source": [
        "from datasets import load_dataset\n"
      ],
      "metadata": {
        "id": "Q2iE3ZnIPZeG"
      },
      "execution_count": 1,
      "outputs": []
    },
    {
      "cell_type": "code",
      "source": [
        "import os\n",
        "import sys\n",
        "import transformers\n",
        "import tensorflow as tf\n",
        "from datasets import load_dataset\n",
        "from transformers import AutoTokenizer\n",
        "from transformers import TFAutoModelForSeq2SeqLM, DataCollatorForSeq2Seq\n",
        "from transformers import AdamWeightDecay\n",
        "from transformers import AutoTokenizer, TFAutoModelForSeq2SeqLM\n",
        "model_checkpoint = \"Helsinki-NLP/opus-mt-en-hi\"\n",
        "raw_datasets = load_dataset(\"cfilt/iitb-english-hindi\")\n",
        "tokenizer = AutoTokenizer.from_pretrained(model_checkpoint)\n",
        "max_input_length = 128\n",
        "max_target_length = 128\n",
        "source_lang = \"en\"\n",
        "target_lang = \"hi\"\n",
        "def preprocess_function(examples):\n",
        "  inputs = [ex[source_lang] for ex in examples[\"translation\"]]\n",
        "  targets = [ex[target_lang] for ex in examples[\"translation\"]]\n",
        "  model_inputs = tokenizer(inputs, max_length=max_input_length, truncation=True)\n",
        "  with tokenizer.as_target_tokenizer():\n",
        "    labels = tokenizer(targets, max_length=max_target_length, truncation=True)\n",
        "  model_inputs[\"labels\"] = labels[\"input_ids\"]\n",
        "  return model_inputs\n",
        "tokenized_datasets = raw_datasets.map(preprocess_function, batched=True)\n",
        "model = TFAutoModelForSeq2SeqLM.from_pretrained(model_checkpoint)\n",
        "batch_size = 16\n",
        "learning_rate = 2e-5\n",
        "weight_decay = 0.01\n",
        "num_train_epochs = 1\n",
        "data_collator = DataCollatorForSeq2Seq(tokenizer, model=model, return_tensors=\"tf\")\n",
        "generation_data_collator = DataCollatorForSeq2Seq(tokenizer, model=model, return_tensors=\"tf\",pad_to_multiple_of=128)\n",
        "small_train_dataset = tokenized_datasets[\"train\"].select(range(1000))  # Use only first 1000 examples\n",
        "train_dataset = model.prepare_tf_dataset(\n",
        "    small_train_dataset,\n",
        "    batch_size=batch_size,\n",
        "    shuffle=True,\n",
        "    collate_fn=data_collator\n",
        ")\n",
        "\n",
        "validation_dataset = model.prepare_tf_dataset(\n",
        "  tokenized_datasets[\"validation\"],\n",
        "  batch_size=batch_size,\n",
        "  shuffle=False,\n",
        "  collate_fn=data_collator,\n",
        ")\n",
        "generation_dataset = model.prepare_tf_dataset(\n",
        "  tokenized_datasets[\"validation\"],\n",
        "  batch_size=8,\n",
        "  shuffle=False,\n",
        "  collate_fn=generation_data_collator,\n",
        ")\n",
        "optimizer = AdamWeightDecay(learning_rate=learning_rate, weight_decay_rate=weight_decay)\n",
        "model.compile(optimizer=optimizer)\n",
        "model.fit(train_dataset, validation_data=validation_dataset, epochs=1)\n",
        "model.save_pretrained(\"tf_model/\")\n",
        "tokenizer = AutoTokenizer.from_pretrained(model_checkpoint)"
      ],
      "metadata": {
        "id": "9_onMclN5Yvw",
        "collapsed": true
      },
      "execution_count": null,
      "outputs": []
    },
    {
      "cell_type": "code",
      "source": [
        "from transformers import AutoTokenizer, TFAutoModelForSeq2SeqLM\n",
        "\n",
        "model = TFAutoModelForSeq2SeqLM.from_pretrained(\"tf_model/\")\n",
        "tokenizer = AutoTokenizer.from_pretrained(\"Helsinki-NLP/opus-mt-en-hi\")\n",
        "\n",
        "input_texts = [\"I am good at English.\", \"This is my first NLP project.\"]\n",
        "\n",
        "tokenized = tokenizer(input_texts, return_tensors='np', padding=True, truncation=True)\n",
        "out = model.generate(**tokenized, max_length=128)\n",
        "\n",
        "for i, output in enumerate(out):\n",
        "    print(f\"English: {input_texts[i]}\")\n",
        "    print(f\"Hindi: {tokenizer.decode(output, skip_special_tokens=True)}\\n\")\n"
      ],
      "metadata": {
        "colab": {
          "base_uri": "https://localhost:8080/"
        },
        "id": "Iephrax70BDX",
        "outputId": "fb5b0a85-93e2-464d-947a-c7984654db88"
      },
      "execution_count": 4,
      "outputs": [
        {
          "output_type": "stream",
          "name": "stderr",
          "text": [
            "All model checkpoint layers were used when initializing TFMarianMTModel.\n",
            "\n",
            "All the layers of TFMarianMTModel were initialized from the model checkpoint at tf_model/.\n",
            "If your task is similar to the task the model of the checkpoint was trained on, you can already use TFMarianMTModel for predictions without further training.\n"
          ]
        },
        {
          "output_type": "stream",
          "name": "stdout",
          "text": [
            "English: I am good at English.\n",
            "Hindi: मैं अंग्रेजी में अच्छा हूँ.\n",
            "\n",
            "English: This is my first NLP project.\n",
            "Hindi: यह मेरी पहली NLP परियोजना है.\n",
            "\n"
          ]
        }
      ]
    }
  ]
}